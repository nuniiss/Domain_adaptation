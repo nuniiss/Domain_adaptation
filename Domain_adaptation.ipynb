{
  "nbformat": 4,
  "nbformat_minor": 0,
  "metadata": {
    "colab": {
      "name": " Domain_adaptation.ipynb",
      "provenance": [],
      "collapsed_sections": []
    },
    "kernelspec": {
      "name": "python3",
      "display_name": "Python 3"
    },
    "language_info": {
      "name": "python"
    },
    "accelerator": "TPU"
  },
  "cells": [
    {
      "cell_type": "code",
      "metadata": {
        "id": "BUlh5ddiEX7C"
      },
      "source": [
        "import numpy as np # linear algebra\n",
        "import pandas as pd # data processing, CSV file I/O (e.g. pd.read_csv)\n",
        "import matplotlib as mpl\n",
        "import matplotlib.pyplot as plt\n",
        "import seaborn as sns\n",
        "%matplotlib inline\n",
        "import tensorflow as tf"
      ],
      "execution_count": 1,
      "outputs": []
    },
    {
      "cell_type": "code",
      "metadata": {
        "id": "l7EvBn85KeGC"
      },
      "source": [
        "\n",
        "from sklearn.preprocessing import StandardScaler\n",
        "from sklearn.decomposition import PCA\n",
        "\n",
        "from sklearn.linear_model import LogisticRegression\n",
        "from sklearn.svm import SVC, LinearSVC\n",
        "from sklearn.ensemble import RandomForestClassifier\n",
        "from sklearn import metrics\n",
        "from sklearn.datasets import make_moons, make_blobs\n",
        "from sklearn.model_selection import train_test_split\n",
        "from sklearn import preprocessing\n",
        "from sklearn.manifold import TSNE"
      ],
      "execution_count": 2,
      "outputs": []
    },
    {
      "cell_type": "code",
      "metadata": {
        "colab": {
          "base_uri": "https://localhost:8080/"
        },
        "id": "53WLAaPpEZTS",
        "outputId": "8ac56981-00af-4059-a006-11adbd3d5f74"
      },
      "source": [
        "from google.colab import drive\n",
        "drive.mount('/content/gdrive/')"
      ],
      "execution_count": 3,
      "outputs": [
        {
          "output_type": "stream",
          "text": [
            "Drive already mounted at /content/gdrive/; to attempt to forcibly remount, call drive.mount(\"/content/gdrive/\", force_remount=True).\n"
          ],
          "name": "stdout"
        }
      ]
    },
    {
      "cell_type": "code",
      "metadata": {
        "id": "rQQkYR8b1Jva"
      },
      "source": [
        "def normalization (normal_df):\n",
        "    \n",
        "    min_max_scaler = preprocessing.MinMaxScaler()\n",
        "    feature_names = list(normal_df)\n",
        "    \n",
        "    min_max_scaler = min_max_scaler.fit(normal_df.values)\n",
        "    X_raw_minmax = min_max_scaler.transform(normal_df.values)\n",
        "    normal_df = pd.DataFrame(X_raw_minmax, columns=feature_names)\n",
        "\n",
        "    return normal_df, min_max_scaler"
      ],
      "execution_count": 4,
      "outputs": []
    },
    {
      "cell_type": "code",
      "metadata": {
        "id": "nqcjPWvySaTC"
      },
      "source": [
        "#CONSTANTS\n",
        "#MNIST_M_PATH = './Datasets/MNIST_M/mnistm.h5'\n",
        "\n",
        "BATCH_SIZE = 30\n",
        "CHANNELS = 3\n",
        "EPOCH = 100\n",
        "\n",
        "\n",
        "source_df = pd.read_csv('/content/gdrive/MyDrive/data/cwan/BR_ori1.csv')\n",
        "target_df = pd.read_csv('/content/gdrive/MyDrive/data/cwan/SILL_ori1.csv')\n",
        "\n",
        "\n",
        "source_df = source_df.sort_index()\n",
        "target_df = target_df.sort_index()"
      ],
      "execution_count": 5,
      "outputs": []
    },
    {
      "cell_type": "code",
      "metadata": {
        "id": "DrNP-WYiTewM"
      },
      "source": [
        "source_x = source_df.drop(columns=['Class','username'])\n",
        "target_x = target_df.drop(columns=['Class','Student_id'])"
      ],
      "execution_count": 6,
      "outputs": []
    },
    {
      "cell_type": "code",
      "metadata": {
        "id": "UxOCt6oT9BdG"
      },
      "source": [
        "pca = PCA(24) \n",
        "pca.fit(target_x)\n",
        "target_x_t = pca.transform(target_x)\n",
        "\n",
        "source_x, normalizer = normalization(source_x)\n",
        "target_x_t = normalizer.transform(target_x_t)\n",
        "\n",
        "\n",
        "target_y = tf.one_hot(target_df['Class'], depth=2)\n",
        "source_y = tf.one_hot(source_df['Class'], depth=2)\n",
        "\n",
        "source_train_x, source_test_x, source_train_y, source_test_y = train_test_split(source_x, source_df['Class'], test_size=44,shuffle=True, random_state=0)\n",
        "target_train_x, target_test_x, target_train_y, target_test_y = train_test_split(target_x_t, target_df['Class'], test_size=44, shuffle=True, random_state=0)\n",
        "\n",
        "#source_train_x, source_test_x = source_train_x.astype('float64'), source_test_x.astype('float64')\n",
        "\n",
        "source_train_y = tf.one_hot(source_train_y, depth=2)\n",
        "source_test_y = tf.one_hot(source_test_y, depth=2)\n",
        "target_train_y = tf.one_hot(target_train_y, depth=2)\n",
        "target_test_y = tf.one_hot(target_test_y, depth=2)\n",
        "\n",
        "\n",
        "source_train_dataset = tf.data.Dataset.from_tensor_slices((source_train_x, source_train_y)).batch(BATCH_SIZE * 2)                                \n",
        "target_train_dataset = tf.data.Dataset.from_tensor_slices((target_train_x, target_train_y)).batch(BATCH_SIZE * 2)\n",
        "\n",
        "source_test_dataset = tf.data.Dataset.from_tensor_slices((source_test_x, source_test_y)).batch(BATCH_SIZE * 2) #Test Dataset over Target Domain\n",
        "target_test_dataset = tf.data.Dataset.from_tensor_slices((target_test_x, target_test_y)).batch(BATCH_SIZE * 2) #Test Dataset over Target (used for training)\n",
        "\n",
        "da_train_dataset = tf.data.Dataset.from_tensor_slices((source_train_x, source_train_y, target_train_x, target_train_y )).batch(BATCH_SIZE)\n",
        "da_test_dataset = tf.data.Dataset.from_tensor_slices((source_test_x, source_test_y, target_test_x, target_test_y )).batch(BATCH_SIZE)"
      ],
      "execution_count": 7,
      "outputs": []
    },
    {
      "cell_type": "code",
      "metadata": {
        "colab": {
          "base_uri": "https://localhost:8080/"
        },
        "id": "2szog465GAzZ",
        "outputId": "fa90daa5-a9c5-46dc-a64a-a79086cd13bb"
      },
      "source": [
        "source_train_x.shape"
      ],
      "execution_count": 8,
      "outputs": [
        {
          "output_type": "execute_result",
          "data": {
            "text/plain": [
              "(60, 24)"
            ]
          },
          "metadata": {
            "tags": []
          },
          "execution_count": 8
        }
      ]
    },
    {
      "cell_type": "code",
      "metadata": {
        "colab": {
          "base_uri": "https://localhost:8080/"
        },
        "id": "24h0TWUWgDAd",
        "outputId": "e478ee41-e2c7-4935-eb78-3f4bd1bb76f2"
      },
      "source": [
        "source_train_y.shape"
      ],
      "execution_count": 9,
      "outputs": [
        {
          "output_type": "execute_result",
          "data": {
            "text/plain": [
              "TensorShape([60, 2])"
            ]
          },
          "metadata": {
            "tags": []
          },
          "execution_count": 9
        }
      ]
    },
    {
      "cell_type": "code",
      "metadata": {
        "colab": {
          "base_uri": "https://localhost:8080/",
          "height": 351
        },
        "id": "35H1tGY8WW7C",
        "outputId": "ec85c7da-5ad5-4d47-c72c-06f101226a20"
      },
      "source": [
        "plt.subplots(figsize=(15,5))\n",
        "plt.plot(source_df['Class'], label=\"source\")\n",
        "plt.plot(target_df['Class'], label=\"target\")\n",
        "plt.ylabel('label')\n",
        "plt.xlabel('samples')\n",
        "plt.legend()\n"
      ],
      "execution_count": 10,
      "outputs": [
        {
          "output_type": "execute_result",
          "data": {
            "text/plain": [
              "<matplotlib.legend.Legend at 0x7effdd9f6f10>"
            ]
          },
          "metadata": {
            "tags": []
          },
          "execution_count": 10
        },
        {
          "output_type": "display_data",
          "data": {
            "image/png": "[encoded data removed]",
            "text/plain": [
              "<Figure size 1080x360 with 1 Axes>"
            ]
          },
          "metadata": {
            "tags": [],
            "needs_background": "light"
          }
        }
      ]
    },
    {
      "cell_type": "code",
      "metadata": {
        "colab": {
          "base_uri": "https://localhost:8080/"
        },
        "id": "uWJt9ckjb02A",
        "outputId": "b96a8fe3-5fb7-407f-fd61-820bb6960fa8"
      },
      "source": [
        "target_train_x.shape"
      ],
      "execution_count": 11,
      "outputs": [
        {
          "output_type": "execute_result",
          "data": {
            "text/plain": [
              "(60, 24)"
            ]
          },
          "metadata": {
            "tags": []
          },
          "execution_count": 11
        }
      ]
    },
    {
      "cell_type": "code",
      "metadata": {
        "id": "1D86gCwdTyOA"
      },
      "source": [
        "#Gradient Reversal Layer\n",
        "@tf.custom_gradient\n",
        "def gradient_reverse(x, lamda=1.0):\n",
        "    y = tf.identity(x)\n",
        "    \n",
        "    def grad(dy):\n",
        "        return lamda * -dy, None\n",
        "    \n",
        "    return y, grad\n",
        "\n",
        "\n",
        "class GradientReversalLayer(tf.keras.layers.Layer):\n",
        "    def __init__(self):\n",
        "        super().__init__()\n",
        "    \n",
        "    def call(self, x, lamda=1.0):\n",
        "        return gradient_reverse(x, lamda)\n",
        "\n"
      ],
      "execution_count": 12,
      "outputs": []
    },
    {
      "cell_type": "code",
      "metadata": {
        "id": "tK59TveNbStW"
      },
      "source": [
        "from tensorflow.keras import Sequential, Model\n",
        "from tensorflow.keras.layers import Dense, Flatten, Conv1D, Dropout, MaxPool1D, BatchNormalization, Dropout\n",
        "\n",
        "\n",
        "class DANN(Model):\n",
        "    def __init__(self):\n",
        "        super().__init__()\n",
        "        \n",
        "        #Feature Extractor\n",
        "        self.feature_extractor_layer0 = Dense(40, activation='relu')\n",
        "        self.feature_extractor_layer1 = Dense(30, activation='relu')\n",
        "        self.feature_extractor_layer2 = Dense(20, activation='relu')\n",
        "        \n",
        "        #Label Predictor\n",
        "        self.label_predictor_layer0 = Dense(20, activation='relu')\n",
        "        self.label_predictor_layer1 = Dense(10, activation='relu')\n",
        "        self.label_predictor_layer2 = Dense(2, activation=None)\n",
        "        \n",
        "        #Domain Predictor\n",
        "        self.domain_predictor_layer0 = GradientReversalLayer()\n",
        "        self.domain_predictor_layer1 = Dense(20, activation='relu')\n",
        "        self.domain_predictor_layer2 = Dense(2, activation=None)\n",
        "        \n",
        "    def call(self, x, train=False, source_train=True, lamda=1.0,get_features=False):\n",
        "        #Feature Extractor\n",
        "        x = self.feature_extractor_layer0(x)\n",
        "        x = self.feature_extractor_layer1(x, training=train)\n",
        "        x = self.feature_extractor_layer2(x)\n",
        "        #print('DANN / feature shape:', x.shape)\n",
        "        #feature = tf.reshape(x, [-1, 1 * 1 * 16])\n",
        "        self.feature = x\n",
        "        \n",
        "        #Label Predictor\n",
        "        if source_train is True:\n",
        "            feature_slice = self.feature\n",
        "        else:\n",
        "            feature_slice = tf.slice(self.feature, [0, 0], [self.feature.shape[0] // 2, -1])\n",
        "        \n",
        "        lp_x = self.label_predictor_layer0(feature_slice)\n",
        "        lp_x = self.label_predictor_layer1(lp_x)\n",
        "        l_logits = self.label_predictor_layer2(lp_x)\n",
        "        \n",
        "        if get_features:\n",
        "            return self.feature\n",
        "\n",
        "        #Domain Predictor\n",
        "        if source_train is True:\n",
        "            return l_logits\n",
        "        else:\n",
        "            dp_x = self.domain_predictor_layer0(self.feature, lamda)    #GradientReversalLayer\n",
        "            dp_x = self.domain_predictor_layer1(dp_x)\n",
        "            d_logits = self.domain_predictor_layer2(dp_x)\n",
        "            \n",
        "            return l_logits, d_logits\n",
        "\n",
        "def loss_func(input_logits, target_labels):\n",
        "    return tf.reduce_mean(tf.nn.softmax_cross_entropy_with_logits(logits=input_logits, labels=target_labels))\n",
        "\n",
        "\n",
        "def get_loss(l_logits, labels, d_logits=None, domain=None):\n",
        "    if d_logits is None:\n",
        "        return loss_func(l_logits, labels)\n",
        "    else:\n",
        "        return loss_func(l_logits, labels) + loss_func(d_logits, domain)\n",
        "\n"
      ],
      "execution_count": 13,
      "outputs": []
    },
    {
      "cell_type": "code",
      "metadata": {
        "id": "cIt77AoUbjoc"
      },
      "source": [
        "\n",
        "model = DANN()\n",
        "\n",
        "model_optimizer = tf.optimizers.SGD()\n",
        "\n",
        "domain_labels = np.vstack([np.tile([1., 0.], [BATCH_SIZE, 1]),\n",
        "                           np.tile([0., 1.], [BATCH_SIZE, 1])])\n",
        "domain_labels = domain_labels.astype('float32')\n",
        "\n",
        "\n",
        "epoch_accuracy = tf.keras.metrics.CategoricalAccuracy()\n",
        "domain_accuracy = tf.keras.metrics.CategoricalAccuracy()\n",
        "source_acc = []  # Source Domain Accuracy while Source-only Training\n",
        "source_da_acc = []# Source Domain Accuracy while DA-training\n",
        "source_test_acc = []   # Testing Dataset (Target Domain) Accuracy \n",
        "target_test_acc = []   # Target Domain (used for Training) Accuracy\n",
        "target_vali_acc = []   \n",
        "da_acc = []\n",
        "\n",
        "extracted_features = []\n",
        "\n"
      ],
      "execution_count": 14,
      "outputs": []
    },
    {
      "cell_type": "code",
      "metadata": {
        "id": "k5cUJjuV-hkC"
      },
      "source": [
        "@tf.function\n",
        "def train_step_source(s_images, s_labels, lamda=1.0):\n",
        "    images = s_images\n",
        "    labels = s_labels\n",
        "    \n",
        "    with tf.GradientTape() as tape:\n",
        "        output = model(images, train=True, source_train=True, lamda=lamda)\n",
        "        #print('output', output)\n",
        "        #print('labels', labels)\n",
        "        model_loss = get_loss(output[1], labels)\n",
        "        epoch_accuracy(output[1], labels)\n",
        "        \n",
        "    gradients_mdan = tape.gradient(model_loss, model.trainable_variables)\n",
        "    model_optimizer.apply_gradients(zip(gradients_mdan, model.trainable_variables))\n",
        "\n",
        "\n",
        "@tf.function\n",
        "def train_step_da(s_images, s_labels, t_images=None, t_labels=None, lamda=1.0):\n",
        "    images = tf.concat([s_images, t_images], 0)\n",
        "    labels = s_labels\n",
        "    \n",
        "    #print('train_step_da / s_labels', s_labels)\n",
        "    print('train_step_da / s_images', s_images)\n",
        "    \n",
        "    with tf.GradientTape() as tape:\n",
        "        output = model(images, train=True, source_train=False, lamda=lamda)\n",
        "\n",
        "        print('train_step_da / output', output)\n",
        "        #print('train_step_da / labels', labels)\n",
        "        \n",
        "        model_loss = get_loss(output[0], labels, output[1], domain_labels)\n",
        "        epoch_accuracy(output[0], labels)\n",
        "        domain_accuracy(output[1], domain_labels)\n",
        "        #extracted_features.append(output[2])\n",
        "        #print(extracted_features)\n",
        "        \n",
        "    gradients_mdan = tape.gradient(model_loss, model.trainable_variables)\n",
        "    model_optimizer.apply_gradients(zip(gradients_mdan, model.trainable_variables))\n",
        "\n",
        "\n",
        "@tf.function\n",
        "def test_step(t_images, t_labels):\n",
        "    images = t_images\n",
        "    labels = t_labels\n",
        "    \n",
        "    output = model(images, train=False, source_train=True)\n",
        "    epoch_accuracy(output, labels)\n",
        "    \n",
        "def get_features(s_images, s_labels, t_images=None, t_labels=None):\n",
        "    output = model(s_images, s_labels, t_images, t_labels, get_features=True)\n",
        "    extracted_features.append(output)\n",
        "\n",
        "\n",
        "def train(train_mode, epochs=EPOCH):\n",
        "    \n",
        "    if train_mode == 'source':\n",
        "        dataset = source_train_dataset\n",
        "        train_func = train_step_source\n",
        "        acc_list = source_acc\n",
        "    elif train_mode == 'domain-adaptation':\n",
        "        dataset = da_train_dataset\n",
        "        train_func = train_step_da\n",
        "        acc_list = source_da_acc\n",
        "    else:\n",
        "        raise ValueError(\"Unknown training Mode\")\n",
        "    \n",
        "    for epoch in range(epochs):\n",
        "        p = float(epoch) / epochs\n",
        "        lamda = 2 / (1 + np.exp(-100 * p, dtype=np.float32)) - 1\n",
        "        lamda = lamda.astype('float32')\n",
        "\n",
        "        for batch in dataset:\n",
        "            #print('train_func batch', batch.shape)\n",
        "            train_func(*batch, lamda=lamda)\n",
        "        \n",
        "        #print(\"Training: Epoch {} :\\t Source Accuracy : {:.3%}\".format(epoch, epoch_accuracy.result()), end='  |  ')\n",
        "        print(\"Training: Epoch {} :\\t \".format(epoch), end='  |  ')\n",
        "        acc_list.append(epoch_accuracy.result())\n",
        "        test()\n",
        "        epoch_accuracy.reset_states()\n",
        "\n",
        "\n",
        "def test():\n",
        "    epoch_accuracy.reset_states()\n",
        "    \n",
        "    #Testing Dataset (Target Domain)\n",
        "    for batch in source_test_dataset:\n",
        "        test_step(*batch)\n",
        "        \n",
        "    print(\"Source Accuracy : {:.3%}\".format(epoch_accuracy.result()), end='  |  ')\n",
        "    source_test_acc.append(epoch_accuracy.result())\n",
        "    epoch_accuracy.reset_states()\n",
        "    \n",
        "    #Target Domain (used for Training)\n",
        "    for batch in target_test_dataset:\n",
        "        test_step(*batch)\n",
        "        \n",
        "    for batch in da_test_dataset:\n",
        "        get_features(*batch)\n",
        "    \n",
        "    print(\"Target Accuracy : {:.3%}\".format(epoch_accuracy.result()), end='  |  ')\n",
        "    target_test_acc.append(epoch_accuracy.result())\n",
        "    \n",
        "    print(\"Domain Accuracy : {:.3%}\".format(domain_accuracy.result()))\n",
        "    da_acc.append(domain_accuracy.result())\n",
        "    epoch_accuracy.reset_states()"
      ],
      "execution_count": 16,
      "outputs": []
    },
    {
      "cell_type": "code",
      "metadata": {
        "colab": {
          "base_uri": "https://localhost:8080/"
        },
        "id": "ME5qZhCRcGQk",
        "outputId": "66501751-c676-4bb3-e13b-92d99d98c490"
      },
      "source": [
        "\n",
        "#tf.executing_eagerly()\n",
        "#Training\n",
        "#train('source', 5)\n",
        "\n",
        "train_method='domain-adaptation'\n",
        "train(train_method, EPOCH)\n",
        "\n",
        "\n"
      ],
      "execution_count": 17,
      "outputs": [
        {
          "output_type": "stream",
          "text": [
            "train_step_da / s_images Tensor(\"s_images:0\", shape=(30, 24), dtype=float64)\n",
            "train_step_da / output (<tf.Tensor 'dann/dense_5/BiasAdd:0' shape=(30, 2) dtype=float32>, <tf.Tensor 'dann/dense_7/BiasAdd:0' shape=(60, 2) dtype=float32>)\n",
            "train_step_da / s_images Tensor(\"s_images:0\", shape=(30, 24), dtype=float64)\n",
            "train_step_da / output (<tf.Tensor 'dann/dense_5/BiasAdd:0' shape=(30, 2) dtype=float32>, <tf.Tensor 'dann/dense_7/BiasAdd:0' shape=(60, 2) dtype=float32>)\n",
            "Training: Epoch 0 :\t   |  Source Accuracy : 47.727%  |  Target Accuracy : 86.364%  |  Domain Accuracy : 22.500%\n",
            "Training: Epoch 1 :\t   |  Source Accuracy : 77.273%  |  Target Accuracy : 90.909%  |  Domain Accuracy : 27.083%\n",
            "Training: Epoch 2 :\t   |  Source Accuracy : 88.636%  |  Target Accuracy : 93.182%  |  Domain Accuracy : 30.278%\n",
            "Training: Epoch 3 :\t   |  Source Accuracy : 93.182%  |  Target Accuracy : 95.455%  |  Domain Accuracy : 32.500%\n",
            "Training: Epoch 4 :\t   |  Source Accuracy : 93.182%  |  Target Accuracy : 95.455%  |  Domain Accuracy : 33.833%\n",
            "Training: Epoch 5 :\t   |  Source Accuracy : 93.182%  |  Target Accuracy : 95.455%  |  Domain Accuracy : 35.139%\n",
            "Training: Epoch 6 :\t   |  Source Accuracy : 95.455%  |  Target Accuracy : 95.455%  |  Domain Accuracy : 36.190%\n",
            "Training: Epoch 7 :\t   |  Source Accuracy : 95.455%  |  Target Accuracy : 95.455%  |  Domain Accuracy : 36.875%\n",
            "Training: Epoch 8 :\t   |  Source Accuracy : 95.455%  |  Target Accuracy : 95.455%  |  Domain Accuracy : 37.315%\n",
            "Training: Epoch 9 :\t   |  Source Accuracy : 95.455%  |  Target Accuracy : 95.455%  |  Domain Accuracy : 37.750%\n",
            "Training: Epoch 10 :\t   |  Source Accuracy : 95.455%  |  Target Accuracy : 95.455%  |  Domain Accuracy : 38.106%\n",
            "Training: Epoch 11 :\t   |  Source Accuracy : 95.455%  |  Target Accuracy : 95.455%  |  Domain Accuracy : 38.472%\n",
            "Training: Epoch 12 :\t   |  Source Accuracy : 95.455%  |  Target Accuracy : 95.455%  |  Domain Accuracy : 38.782%\n",
            "Training: Epoch 13 :\t   |  Source Accuracy : 95.455%  |  Target Accuracy : 95.455%  |  Domain Accuracy : 39.048%\n",
            "Training: Epoch 14 :\t   |  Source Accuracy : 95.455%  |  Target Accuracy : 95.455%  |  Domain Accuracy : 39.333%\n",
            "Training: Epoch 15 :\t   |  Source Accuracy : 95.455%  |  Target Accuracy : 95.455%  |  Domain Accuracy : 39.583%\n",
            "Training: Epoch 16 :\t   |  Source Accuracy : 95.455%  |  Target Accuracy : 95.455%  |  Domain Accuracy : 39.804%\n",
            "Training: Epoch 17 :\t   |  Source Accuracy : 95.455%  |  Target Accuracy : 95.455%  |  Domain Accuracy : 40.046%\n",
            "Training: Epoch 18 :\t   |  Source Accuracy : 95.455%  |  Target Accuracy : 95.455%  |  Domain Accuracy : 40.307%\n",
            "Training: Epoch 19 :\t   |  Source Accuracy : 95.455%  |  Target Accuracy : 95.455%  |  Domain Accuracy : 40.542%\n",
            "Training: Epoch 20 :\t   |  Source Accuracy : 95.455%  |  Target Accuracy : 95.455%  |  Domain Accuracy : 40.675%\n",
            "Training: Epoch 21 :\t   |  Source Accuracy : 95.455%  |  Target Accuracy : 95.455%  |  Domain Accuracy : 40.795%\n",
            "Training: Epoch 22 :\t   |  Source Accuracy : 95.455%  |  Target Accuracy : 95.455%  |  Domain Accuracy : 40.906%\n",
            "Training: Epoch 23 :\t   |  Source Accuracy : 95.455%  |  Target Accuracy : 95.455%  |  Domain Accuracy : 41.007%\n",
            "Training: Epoch 24 :\t   |  Source Accuracy : 95.455%  |  Target Accuracy : 95.455%  |  Domain Accuracy : 41.100%\n",
            "Training: Epoch 25 :\t   |  Source Accuracy : 95.455%  |  Target Accuracy : 95.455%  |  Domain Accuracy : 41.186%\n",
            "Training: Epoch 26 :\t   |  Source Accuracy : 95.455%  |  Target Accuracy : 95.455%  |  Domain Accuracy : 41.296%\n",
            "Training: Epoch 27 :\t   |  Source Accuracy : 95.455%  |  Target Accuracy : 95.455%  |  Domain Accuracy : 41.399%\n",
            "Training: Epoch 28 :\t   |  Source Accuracy : 95.455%  |  Target Accuracy : 95.455%  |  Domain Accuracy : 41.494%\n",
            "Training: Epoch 29 :\t   |  Source Accuracy : 95.455%  |  Target Accuracy : 95.455%  |  Domain Accuracy : 41.583%\n",
            "Training: Epoch 30 :\t   |  Source Accuracy : 95.455%  |  Target Accuracy : 95.455%  |  Domain Accuracy : 41.667%\n",
            "Training: Epoch 31 :\t   |  Source Accuracy : 95.455%  |  Target Accuracy : 95.455%  |  Domain Accuracy : 41.745%\n",
            "Training: Epoch 32 :\t   |  Source Accuracy : 95.455%  |  Target Accuracy : 95.455%  |  Domain Accuracy : 41.818%\n",
            "Training: Epoch 33 :\t   |  Source Accuracy : 95.455%  |  Target Accuracy : 95.455%  |  Domain Accuracy : 41.887%\n",
            "Training: Epoch 34 :\t   |  Source Accuracy : 95.455%  |  Target Accuracy : 95.455%  |  Domain Accuracy : 41.952%\n",
            "Training: Epoch 35 :\t   |  Source Accuracy : 95.455%  |  Target Accuracy : 95.455%  |  Domain Accuracy : 42.014%\n",
            "Training: Epoch 36 :\t   |  Source Accuracy : 95.455%  |  Target Accuracy : 95.455%  |  Domain Accuracy : 42.072%\n",
            "Training: Epoch 37 :\t   |  Source Accuracy : 95.455%  |  Target Accuracy : 95.455%  |  Domain Accuracy : 42.149%\n",
            "Training: Epoch 38 :\t   |  Source Accuracy : 95.455%  |  Target Accuracy : 95.455%  |  Domain Accuracy : 42.222%\n",
            "Training: Epoch 39 :\t   |  Source Accuracy : 95.455%  |  Target Accuracy : 95.455%  |  Domain Accuracy : 42.312%\n",
            "Training: Epoch 40 :\t   |  Source Accuracy : 95.455%  |  Target Accuracy : 95.455%  |  Domain Accuracy : 42.398%\n",
            "Training: Epoch 41 :\t   |  Source Accuracy : 95.455%  |  Target Accuracy : 95.455%  |  Domain Accuracy : 42.480%\n",
            "Training: Epoch 42 :\t   |  Source Accuracy : 95.455%  |  Target Accuracy : 95.455%  |  Domain Accuracy : 42.578%\n",
            "Training: Epoch 43 :\t   |  Source Accuracy : 95.455%  |  Target Accuracy : 95.455%  |  Domain Accuracy : 42.670%\n",
            "Training: Epoch 44 :\t   |  Source Accuracy : 95.455%  |  Target Accuracy : 95.455%  |  Domain Accuracy : 42.741%\n",
            "Training: Epoch 45 :\t   |  Source Accuracy : 95.455%  |  Target Accuracy : 95.455%  |  Domain Accuracy : 42.808%\n",
            "Training: Epoch 46 :\t   |  Source Accuracy : 95.455%  |  Target Accuracy : 95.455%  |  Domain Accuracy : 42.872%\n",
            "Training: Epoch 47 :\t   |  Source Accuracy : 95.455%  |  Target Accuracy : 95.455%  |  Domain Accuracy : 42.934%\n",
            "Training: Epoch 48 :\t   |  Source Accuracy : 95.455%  |  Target Accuracy : 95.455%  |  Domain Accuracy : 42.993%\n",
            "Training: Epoch 49 :\t   |  Source Accuracy : 95.455%  |  Target Accuracy : 95.455%  |  Domain Accuracy : 43.050%\n",
            "Training: Epoch 50 :\t   |  Source Accuracy : 95.455%  |  Target Accuracy : 95.455%  |  Domain Accuracy : 43.105%\n",
            "Training: Epoch 51 :\t   |  Source Accuracy : 95.455%  |  Target Accuracy : 95.455%  |  Domain Accuracy : 43.173%\n",
            "Training: Epoch 52 :\t   |  Source Accuracy : 95.455%  |  Target Accuracy : 95.455%  |  Domain Accuracy : 43.255%\n",
            "Training: Epoch 53 :\t   |  Source Accuracy : 95.455%  |  Target Accuracy : 95.455%  |  Domain Accuracy : 43.349%\n",
            "Training: Epoch 54 :\t   |  Source Accuracy : 95.455%  |  Target Accuracy : 95.455%  |  Domain Accuracy : 43.439%\n",
            "Training: Epoch 55 :\t   |  Source Accuracy : 95.455%  |  Target Accuracy : 95.455%  |  Domain Accuracy : 43.527%\n",
            "Training: Epoch 56 :\t   |  Source Accuracy : 95.455%  |  Target Accuracy : 95.455%  |  Domain Accuracy : 43.596%\n",
            "Training: Epoch 57 :\t   |  Source Accuracy : 95.455%  |  Target Accuracy : 95.455%  |  Domain Accuracy : 43.664%\n",
            "Training: Epoch 58 :\t   |  Source Accuracy : 95.455%  |  Target Accuracy : 95.455%  |  Domain Accuracy : 43.729%\n",
            "Training: Epoch 59 :\t   |  Source Accuracy : 95.455%  |  Target Accuracy : 95.455%  |  Domain Accuracy : 43.792%\n",
            "Training: Epoch 60 :\t   |  Source Accuracy : 95.455%  |  Target Accuracy : 95.455%  |  Domain Accuracy : 43.852%\n",
            "Training: Epoch 61 :\t   |  Source Accuracy : 95.455%  |  Target Accuracy : 95.455%  |  Domain Accuracy : 43.925%\n",
            "Training: Epoch 62 :\t   |  Source Accuracy : 95.455%  |  Target Accuracy : 95.455%  |  Domain Accuracy : 43.995%\n",
            "Training: Epoch 63 :\t   |  Source Accuracy : 95.455%  |  Target Accuracy : 95.455%  |  Domain Accuracy : 44.063%\n",
            "Training: Epoch 64 :\t   |  Source Accuracy : 95.455%  |  Target Accuracy : 95.455%  |  Domain Accuracy : 44.128%\n",
            "Training: Epoch 65 :\t   |  Source Accuracy : 95.455%  |  Target Accuracy : 95.455%  |  Domain Accuracy : 44.205%\n",
            "Training: Epoch 66 :\t   |  Source Accuracy : 95.455%  |  Target Accuracy : 95.455%  |  Domain Accuracy : 44.279%\n",
            "Training: Epoch 67 :\t   |  Source Accuracy : 95.455%  |  Target Accuracy : 95.455%  |  Domain Accuracy : 44.363%\n",
            "Training: Epoch 68 :\t   |  Source Accuracy : 95.455%  |  Target Accuracy : 95.455%  |  Domain Accuracy : 44.444%\n",
            "Training: Epoch 69 :\t   |  Source Accuracy : 95.455%  |  Target Accuracy : 95.455%  |  Domain Accuracy : 44.524%\n",
            "Training: Epoch 70 :\t   |  Source Accuracy : 95.455%  |  Target Accuracy : 95.455%  |  Domain Accuracy : 44.601%\n",
            "Training: Epoch 71 :\t   |  Source Accuracy : 95.455%  |  Target Accuracy : 95.455%  |  Domain Accuracy : 44.676%\n",
            "Training: Epoch 72 :\t   |  Source Accuracy : 95.455%  |  Target Accuracy : 95.455%  |  Domain Accuracy : 44.749%\n",
            "Training: Epoch 73 :\t   |  Source Accuracy : 95.455%  |  Target Accuracy : 95.455%  |  Domain Accuracy : 44.820%\n",
            "Training: Epoch 74 :\t   |  Source Accuracy : 95.455%  |  Target Accuracy : 95.455%  |  Domain Accuracy : 44.889%\n",
            "Training: Epoch 75 :\t   |  Source Accuracy : 95.455%  |  Target Accuracy : 95.455%  |  Domain Accuracy : 44.956%\n",
            "Training: Epoch 76 :\t   |  Source Accuracy : 95.455%  |  Target Accuracy : 95.455%  |  Domain Accuracy : 45.022%\n",
            "Training: Epoch 77 :\t   |  Source Accuracy : 95.455%  |  Target Accuracy : 95.455%  |  Domain Accuracy : 45.085%\n",
            "Training: Epoch 78 :\t   |  Source Accuracy : 95.455%  |  Target Accuracy : 95.455%  |  Domain Accuracy : 45.148%\n",
            "Training: Epoch 79 :\t   |  Source Accuracy : 95.455%  |  Target Accuracy : 95.455%  |  Domain Accuracy : 45.208%\n",
            "Training: Epoch 80 :\t   |  Source Accuracy : 95.455%  |  Target Accuracy : 95.455%  |  Domain Accuracy : 45.267%\n",
            "Training: Epoch 81 :\t   |  Source Accuracy : 95.455%  |  Target Accuracy : 95.455%  |  Domain Accuracy : 45.325%\n",
            "Training: Epoch 82 :\t   |  Source Accuracy : 95.455%  |  Target Accuracy : 95.455%  |  Domain Accuracy : 45.382%\n",
            "Training: Epoch 83 :\t   |  Source Accuracy : 95.455%  |  Target Accuracy : 95.455%  |  Domain Accuracy : 45.437%\n",
            "Training: Epoch 84 :\t   |  Source Accuracy : 95.455%  |  Target Accuracy : 95.455%  |  Domain Accuracy : 45.490%\n",
            "Training: Epoch 85 :\t   |  Source Accuracy : 95.455%  |  Target Accuracy : 95.455%  |  Domain Accuracy : 45.543%\n",
            "Training: Epoch 86 :\t   |  Source Accuracy : 95.455%  |  Target Accuracy : 95.455%  |  Domain Accuracy : 45.594%\n",
            "Training: Epoch 87 :\t   |  Source Accuracy : 95.455%  |  Target Accuracy : 95.455%  |  Domain Accuracy : 45.644%\n",
            "Training: Epoch 88 :\t   |  Source Accuracy : 95.455%  |  Target Accuracy : 95.455%  |  Domain Accuracy : 45.693%\n",
            "Training: Epoch 89 :\t   |  Source Accuracy : 95.455%  |  Target Accuracy : 95.455%  |  Domain Accuracy : 45.741%\n",
            "Training: Epoch 90 :\t   |  Source Accuracy : 95.455%  |  Target Accuracy : 95.455%  |  Domain Accuracy : 45.788%\n",
            "Training: Epoch 91 :\t   |  Source Accuracy : 95.455%  |  Target Accuracy : 95.455%  |  Domain Accuracy : 45.833%\n",
            "Training: Epoch 92 :\t   |  Source Accuracy : 95.455%  |  Target Accuracy : 95.455%  |  Domain Accuracy : 45.878%\n",
            "Training: Epoch 93 :\t   |  Source Accuracy : 95.455%  |  Target Accuracy : 95.455%  |  Domain Accuracy : 45.922%\n",
            "Training: Epoch 94 :\t   |  Source Accuracy : 95.455%  |  Target Accuracy : 95.455%  |  Domain Accuracy : 45.965%\n",
            "Training: Epoch 95 :\t   |  Source Accuracy : 95.455%  |  Target Accuracy : 95.455%  |  Domain Accuracy : 46.007%\n",
            "Training: Epoch 96 :\t   |  Source Accuracy : 95.455%  |  Target Accuracy : 95.455%  |  Domain Accuracy : 46.048%\n",
            "Training: Epoch 97 :\t   |  Source Accuracy : 95.455%  |  Target Accuracy : 95.455%  |  Domain Accuracy : 46.088%\n",
            "Training: Epoch 98 :\t   |  Source Accuracy : 95.455%  |  Target Accuracy : 95.455%  |  Domain Accuracy : 46.128%\n",
            "Training: Epoch 99 :\t   |  Source Accuracy : 95.455%  |  Target Accuracy : 95.455%  |  Domain Accuracy : 46.167%\n"
          ],
          "name": "stdout"
        }
      ]
    },
    {
      "cell_type": "code",
      "metadata": {
        "colab": {
          "base_uri": "https://localhost:8080/",
          "height": 259
        },
        "id": "oG3hAGL1xgaW",
        "outputId": "31f96db3-e2df-4ba0-da89-0354219f5f9e"
      },
      "source": [
        "#Plot Results\n",
        "x_axis = [i for i in range(0, EPOCH)]\n",
        "plt.subplots(figsize=(15,5))\n",
        "plt.plot(x_axis, source_da_acc, label=\"source accuracy\", marker='.')\n",
        "plt.plot(x_axis, source_test_acc, label=\"source testing accuracy\", marker='.')\n",
        "plt.plot(x_axis, target_test_acc, label=\"target accuracy\", marker='.')\n",
        "\n",
        "if train_method == 'domain-adaptation':\n",
        "    plt.plot(x_axis, da_acc, label=\"target accuracy\", marker='.')\n",
        "    \n",
        "plt.ylabel('accuracy')\n",
        "plt.xlabel('epoch')\n",
        "plt.legend()"
      ],
      "execution_count": 27,
      "outputs": [
        {
          "output_type": "execute_result",
          "data": {
            "text/plain": [
              "<matplotlib.legend.Legend at 0x7effd3ae0990>"
            ]
          },
          "metadata": {
            "tags": []
          },
          "execution_count": 27
        },
        {
          "output_type": "display_data",
          "data": {
            "image/png": "[encoded data removed]",
            "text/plain": [
              "<Figure size 1080x360 with 1 Axes>"
            ]
          },
          "metadata": {
            "tags": [],
            "needs_background": "light"
          }
        }
      ]
    },
    {
      "cell_type": "code",
      "metadata": {
        "colab": {
          "base_uri": "https://localhost:8080/"
        },
        "id": "isgnZfrMjIoA",
        "outputId": "40728784-ac34-48d4-ece3-85b7cdafe223"
      },
      "source": [
        "extracted_features[0].numpy().shape"
      ],
      "execution_count": 19,
      "outputs": [
        {
          "output_type": "execute_result",
          "data": {
            "text/plain": [
              "(30, 20)"
            ]
          },
          "metadata": {
            "tags": []
          },
          "execution_count": 19
        }
      ]
    },
    {
      "cell_type": "code",
      "metadata": {
        "id": "C90VlkxkjlIB",
        "colab": {
          "base_uri": "https://localhost:8080/"
        },
        "outputId": "ad7d05a4-f8c7-4819-c983-5c873855762c"
      },
      "source": [
        "feature_da_np = np.concatenate(extracted_features, axis=0)\n",
        "\n",
        "tsne = TSNE(perplexity=30, n_components=2, init='pca', n_iter=1000, verbose=1)\n",
        "dann_tsne_1 = tsne.fit_transform(np.concatenate(extracted_features, axis=0))"
      ],
      "execution_count": 20,
      "outputs": [
        {
          "output_type": "stream",
          "text": [
            "[t-SNE] Computing 91 nearest neighbors...\n",
            "[t-SNE] Indexed 4400 samples in 0.012s...\n",
            "[t-SNE] Computed neighbors for 4400 samples in 0.293s...\n",
            "[t-SNE] Computed conditional probabilities for sample 1000 / 4400\n",
            "[t-SNE] Computed conditional probabilities for sample 2000 / 4400\n",
            "[t-SNE] Computed conditional probabilities for sample 3000 / 4400\n",
            "[t-SNE] Computed conditional probabilities for sample 4000 / 4400\n",
            "[t-SNE] Computed conditional probabilities for sample 4400 / 4400\n",
            "[t-SNE] Mean sigma: 0.031202\n",
            "[t-SNE] KL divergence after 250 iterations with early exaggeration: 59.238365\n",
            "[t-SNE] KL divergence after 1000 iterations: 0.381707\n"
          ],
          "name": "stdout"
        }
      ]
    },
    {
      "cell_type": "code",
      "metadata": {
        "colab": {
          "base_uri": "https://localhost:8080/",
          "height": 461
        },
        "id": "S8ImBitggL_V",
        "outputId": "3e84eaf3-1f75-48a1-d9a5-25ebab911c1c"
      },
      "source": [
        "plt.subplots(figsize=(10,7))\n",
        "source_da_tsne = dann_tsne_1[:dann_tsne_1.shape[0]//2]\n",
        "target_da_tsne = dann_tsne_1[dann_tsne_1.shape[0]//2:]\n",
        "\n",
        "plt.title('domain adaptation')\n",
        "plt.scatter(source_da_tsne[:,0], source_da_tsne[:,1], s=0.5, label=\"source\")\n",
        "plt.scatter(target_da_tsne[:,0], target_da_tsne[:,1], s=0.5, label=\"target\")\n",
        "plt.xlim(-100, 100)\n",
        "plt.ylim(-100, 100)\n",
        "plt.legend()"
      ],
      "execution_count": 21,
      "outputs": [
        {
          "output_type": "execute_result",
          "data": {
            "text/plain": [
              "<matplotlib.legend.Legend at 0x7effdbc15d50>"
            ]
          },
          "metadata": {
            "tags": []
          },
          "execution_count": 21
        },
        {
          "output_type": "display_data",
          "data": {
            "image/png": "[encoded data removed]",
            "text/plain": [
              "<Figure size 720x504 with 1 Axes>"
            ]
          },
          "metadata": {
            "tags": [],
            "needs_background": "light"
          }
        }
      ]
    },
    {
      "cell_type": "code",
      "metadata": {
        "colab": {
          "base_uri": "https://localhost:8080/"
        },
        "id": "3X7VgDB7Kqd7",
        "outputId": "fc675252-f139-4998-ca69-8cb9ed26df77"
      },
      "source": [
        "dann_tsne_2 = tsne.fit_transform(np.concatenate((source_test_x, target_test_x), axis=0))\n"
      ],
      "execution_count": 22,
      "outputs": [
        {
          "output_type": "stream",
          "text": [
            "[t-SNE] Computing 87 nearest neighbors...\n",
            "[t-SNE] Indexed 88 samples in 0.000s...\n",
            "[t-SNE] Computed neighbors for 88 samples in 0.007s...\n",
            "[t-SNE] Computed conditional probabilities for sample 88 / 88\n",
            "[t-SNE] Mean sigma: 0.595652\n",
            "[t-SNE] KL divergence after 250 iterations with early exaggeration: 55.243507\n",
            "[t-SNE] KL divergence after 1000 iterations: 0.334189\n"
          ],
          "name": "stdout"
        }
      ]
    },
    {
      "cell_type": "code",
      "metadata": {
        "colab": {
          "base_uri": "https://localhost:8080/",
          "height": 461
        },
        "id": "k_OvSAkEXkkF",
        "outputId": "8f0c236d-fedb-476f-e6f8-5ce7b9e220a6"
      },
      "source": [
        "plt.subplots(figsize=(10,7))\n",
        "\n",
        "plt.title('original data')\n",
        "\n",
        "source_tsne = dann_tsne_2[:dann_tsne_2.shape[0]//2]\n",
        "target_tsne = dann_tsne_2[dann_tsne_2.shape[0]//2:]\n",
        "\n",
        "plt.scatter(source_tsne[:,0], source_tsne[:,1], s=10, label=\"source\")\n",
        "plt.scatter(target_tsne[:,0], target_tsne[:,1], s=10, label=\"target\")\n",
        "plt.xlim(-100, 100)\n",
        "plt.ylim(-100, 100)\n",
        "plt.legend()"
      ],
      "execution_count": 23,
      "outputs": [
        {
          "output_type": "execute_result",
          "data": {
            "text/plain": [
              "<matplotlib.legend.Legend at 0x7effd3b24c50>"
            ]
          },
          "metadata": {
            "tags": []
          },
          "execution_count": 23
        },
        {
          "output_type": "display_data",
          "data": {
            "image/png": "[encoded data removed]",
            "text/plain": [
              "<Figure size 720x504 with 1 Axes>"
            ]
          },
          "metadata": {
            "tags": [],
            "needs_background": "light"
          }
        }
      ]
    },
    {
      "cell_type": "code",
      "metadata": {
        "colab": {
          "base_uri": "https://localhost:8080/"
        },
        "id": "qd10uD5TqS2i",
        "outputId": "2660d9ed-1df5-4542-f129-09fd03882ef4"
      },
      "source": [
        "#extracted_features[1].shape\n",
        "print(target_test_x.shape)"
      ],
      "execution_count": 24,
      "outputs": [
        {
          "output_type": "stream",
          "text": [
            "(44, 24)\n"
          ],
          "name": "stdout"
        }
      ]
    },
    {
      "cell_type": "code",
      "metadata": {
        "id": "YZZIo5isp614"
      },
      "source": [
        ""
      ],
      "execution_count": 24,
      "outputs": []
    },
    {
      "cell_type": "code",
      "metadata": {
        "id": "4K3EkPfT6jXH"
      },
      "source": [
        "from sklearn.decomposition import PCA\n",
        "\n",
        "pca_scale = PCA(n_components=2)\n",
        "pca_scale = pca_scale.fit(source_x)\n",
        "\n",
        "source_x_dr = pca_scale.transform(source_x)\n",
        "x_min, x_max = source_x_dr.min(0), source_x_dr.max(0)\n",
        "X_norm = (source_x_dr-x_min) / (x_max-x_min)  #Normalize\n",
        "source_x_df = pd.DataFrame(X_norm, columns = ['dim1','dim2'])\n",
        "\n",
        "target_x_dr = pca_scale.transform(target_x_t)\n",
        "x_min, x_max = target_x_dr.min(0), target_x_dr.max(0)\n",
        "X_norm = (target_x_dr-x_min) / (x_max-x_min)  #Normalize\n",
        "target_x_df = pd.DataFrame(X_norm, columns = ['dim1','dim2'])\n"
      ],
      "execution_count": 25,
      "outputs": []
    },
    {
      "cell_type": "code",
      "metadata": {
        "id": "WzHnwFZ_Sc_M",
        "colab": {
          "base_uri": "https://localhost:8080/",
          "height": 444
        },
        "outputId": "50fc4b57-1596-47da-ce55-34451580c36d"
      },
      "source": [
        "fig, ax = plt.subplots(figsize=(10,7))\n",
        "\n",
        "plt.title('original data')\n",
        "ax.scatter(source_x_df['dim1'], source_x_df['dim2'], alpha=1, label='BR')\n",
        "ax.scatter(target_x_df['dim1'], target_x_df['dim2'], alpha=1, label='SILL')\n",
        "\n",
        "\n",
        "ax.legend()\n",
        "ax.grid(True)\n",
        "\n",
        "#plt.ylim(0, 1)\n",
        "#plt.xlim(0, 1)\n",
        "#plt.savefig('distribution.png', dpi=300)\n",
        "plt.show()"
      ],
      "execution_count": 26,
      "outputs": [
        {
          "output_type": "display_data",
          "data": {
            "image/png": "[encoded data removed]",
            "text/plain": [
              "<Figure size 720x504 with 1 Axes>"
            ]
          },
          "metadata": {
            "tags": [],
            "needs_background": "light"
          }
        }
      ]
    },
    {
      "cell_type": "code",
      "metadata": {
        "id": "fOU6MOnUhLZ1"
      },
      "source": [
        ""
      ],
      "execution_count": 26,
      "outputs": []
    }
  ]
}